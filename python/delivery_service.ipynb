{
 "cells": [
  {
   "cell_type": "code",
   "execution_count": null,
   "metadata": {},
   "outputs": [],
   "source": [
    "location = input(\"Enter your location: \")\n",
    "size = int(input(\"Enter the size of the package: \"))\n",
    "if location == \"PAU\" and size >= 10:\n",
    "    print(\"your fee is 2000\")\n",
    "elif location == \"PAU\" and size < 10:\n",
    "    print(\"your fee is 1500\")\n",
    "elif location == \"epe\" and size >= 10:\n",
    "    print(\"your fee is 5000\")\n",
    "elif location == \"epe\" and size < 10:\n",
    "    print(\"your fee is 4000\")\n",
    "else: \n",
    "    print(\"Sorry, we do not deliver to this destination\")"
   ]
  }
 ],
 "metadata": {
  "kernelspec": {
   "display_name": "Python 3",
   "language": "python",
   "name": "python3"
  },
  "language_info": {
   "codemirror_mode": {
    "name": "ipython",
    "version": 3
   },
   "file_extension": ".py",
   "mimetype": "text/x-python",
   "name": "python",
   "nbconvert_exporter": "python",
   "pygments_lexer": "ipython3",
   "version": "3.8.3"
  }
 },
 "nbformat": 4,
 "nbformat_minor": 4
}
