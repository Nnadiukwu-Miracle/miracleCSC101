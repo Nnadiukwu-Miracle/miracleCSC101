{
 "cells": [
  {
   "cell_type": "code",
   "execution_count": null,
   "metadata": {},
   "outputs": [],
   "source": [
    "price = 0\n",
    "print(\"Welcome to PAU cafeteria. Ours is to serve, yours is to enjoy it\")\n",
    "print(\"What would you like to order\")\n",
    "food = ({\"savoury rice\": 260, \"fried rice\": 260, \"jollof spaghetti\": 260},     \n",
    "{\"chicken wing\": 350, \"chicken casserole\": 850, \"hot dog\": 150, \"boiled egg\": 150, \"beef\": 150, \"griled fish\": 320},\n",
    "{\"savoury beans\": 200, \"boiled yam\": 150, \"fried plantain\": 150, \"mixed veg salad\": 150, \"boli\": 200},\n",
    "{\"drinks\": 150, \"zobo\": 150, \"juice\": 150, \"mixed veg salad\": 150, \"boli\": 200})\n",
    "for x in food:\n",
    "    print(\"We have\", x)\n",
    "    choice = input(\"Do you want it yes / no: \")\n",
    "    if choice == \"yes\":\n",
    "        print(\"Which would you like ?\")\n",
    "        a = input() \n",
    "        portion = int(input(\"How many portions do you want: \"))\n",
    "        cost = x[a] * portion\n",
    "        price += (cost)\n",
    "    else:\n",
    "        print(\"Your current total is\", price)\n",
    "print(\"Your total is\", price)"
   ]
  }
 ],
 "metadata": {
  "kernelspec": {
   "display_name": "Python 3",
   "language": "python",
   "name": "python3"
  },
  "language_info": {
   "codemirror_mode": {
    "name": "ipython",
    "version": 3
   },
   "file_extension": ".py",
   "mimetype": "text/x-python",
   "name": "python",
   "nbconvert_exporter": "python",
   "pygments_lexer": "ipython3",
   "version": "3.8.3"
  }
 },
 "nbformat": 4,
 "nbformat_minor": 4
}
