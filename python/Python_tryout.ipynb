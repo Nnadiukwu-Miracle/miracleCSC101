{
 "cells": [
  {
   "cell_type": "code",
   "execution_count": 1,
   "id": "01103394",
   "metadata": {},
   "outputs": [
    {
     "name": "stdout",
     "output_type": "stream",
     "text": [
      "100\n"
     ]
    }
   ],
   "source": [
    "num = 100\n",
    "print(num)"
   ]
  },
  {
   "cell_type": "code",
   "execution_count": 2,
   "id": "d4b96f34",
   "metadata": {},
   "outputs": [
    {
     "name": "stdout",
     "output_type": "stream",
     "text": [
      "data type of variable num is <class 'int'>\n"
     ]
    }
   ],
   "source": [
    "print(\"data type of variable num is\", type(num))"
   ]
  },
  {
   "cell_type": "code",
   "execution_count": 3,
   "id": "9d0fe273",
   "metadata": {},
   "outputs": [
    {
     "ename": "SyntaxError",
     "evalue": "invalid syntax (2942985584.py, line 1)",
     "output_type": "error",
     "traceback": [
      "\u001b[0;36m  File \u001b[0;32m\"/var/folders/nq/b_nlp5h962z8bz2tggdzyftr0000gn/T/ipykernel_3573/2942985584.py\"\u001b[0;36m, line \u001b[0;32m1\u001b[0m\n\u001b[0;31m    print(\"data type of variable num is\" type(num))\u001b[0m\n\u001b[0m                                         ^\u001b[0m\n\u001b[0;31mSyntaxError\u001b[0m\u001b[0;31m:\u001b[0m invalid syntax\n"
     ]
    }
   ],
   "source": [
    "print(\"data type of variable num is\" type(num))"
   ]
  },
  {
   "cell_type": "code",
   "execution_count": 4,
   "id": "ebc5791e",
   "metadata": {},
   "outputs": [
    {
     "name": "stdout",
     "output_type": "stream",
     "text": [
      "<class 'int'>\n"
     ]
    }
   ],
   "source": [
    "print(type(num))\n"
   ]
  },
  {
   "cell_type": "code",
   "execution_count": 5,
   "id": "2446d2af",
   "metadata": {},
   "outputs": [
    {
     "name": "stdout",
     "output_type": "stream",
     "text": [
      "34.45\n",
      "data type of variable fnum is <class 'float'>\n"
     ]
    }
   ],
   "source": [
    "fnum = 34.45\n",
    "print(fnum)\n",
    "print(\"data type of variable fnum is\", type(fnum))"
   ]
  },
  {
   "cell_type": "code",
   "execution_count": 6,
   "id": "a100e385",
   "metadata": {},
   "outputs": [
    {
     "name": "stdout",
     "output_type": "stream",
     "text": [
      "(3+4j)\n",
      "data type type of variable cnum is <class 'complex'>\n"
     ]
    }
   ],
   "source": [
    "cnum = 3 + 4j\n",
    "print(cnum)\n",
    "print(\"data type type of variable cnum is\", type(cnum))"
   ]
  },
  {
   "cell_type": "code",
   "execution_count": 9,
   "id": "98d1d7de",
   "metadata": {},
   "outputs": [
    {
     "name": "stdout",
     "output_type": "stream",
     "text": [
      "<class 'str'>\n",
      "Hello, my name is Miracle, I am a boy\n"
     ]
    }
   ],
   "source": [
    "#concatenating strings\n",
    "str1 = \"Hello, my name is Miracle\"\n",
    "str2 = \"I am a boy\"\n",
    "str3 = str1 + \",\" + \" \" + str2\n",
    "print(type(str3))\n",
    "print(str3)"
   ]
  },
  {
   "cell_type": "code",
   "execution_count": 10,
   "id": "5a52eed1",
   "metadata": {},
   "outputs": [
    {
     "name": "stdout",
     "output_type": "stream",
     "text": [
      "<class 'tuple'>\n"
     ]
    }
   ],
   "source": [
    "t1 = (1, 2, 3, 4)\n",
    "print(type(t1))"
   ]
  },
  {
   "cell_type": "code",
   "execution_count": 13,
   "id": "72911896",
   "metadata": {},
   "outputs": [
    {
     "name": "stdout",
     "output_type": "stream",
     "text": [
      "1\n",
      "2\n",
      "3\n",
      "4\n"
     ]
    }
   ],
   "source": [
    "for a in t1:\n",
    "    print (a)"
   ]
  },
  {
   "cell_type": "code",
   "execution_count": 16,
   "id": "c903e377",
   "metadata": {},
   "outputs": [
    {
     "ename": "TypeError",
     "evalue": "unsupported operand type(s) for +: 'int' and 'str'",
     "output_type": "error",
     "traceback": [
      "\u001b[0;31m---------------------------------------------------------------------------\u001b[0m",
      "\u001b[0;31mTypeError\u001b[0m                                 Traceback (most recent call last)",
      "\u001b[0;32m/var/folders/nq/b_nlp5h962z8bz2tggdzyftr0000gn/T/ipykernel_3573/1649722495.py\u001b[0m in \u001b[0;36m<module>\u001b[0;34m\u001b[0m\n\u001b[0;32m----> 1\u001b[0;31m \u001b[0mprint\u001b[0m\u001b[0;34m(\u001b[0m\u001b[0mt1\u001b[0m\u001b[0;34m[\u001b[0m\u001b[0;36m0\u001b[0m\u001b[0;34m]\u001b[0m \u001b[0;34m+\u001b[0m \u001b[0;34m\" \"\u001b[0m \u001b[0;34m+\u001b[0m \u001b[0;34m\" is a number\"\u001b[0m\u001b[0;34m)\u001b[0m\u001b[0;34m\u001b[0m\u001b[0;34m\u001b[0m\u001b[0m\n\u001b[0m",
      "\u001b[0;31mTypeError\u001b[0m: unsupported operand type(s) for +: 'int' and 'str'"
     ]
    }
   ],
   "source": [
    "str = \"1 is a number\""
   ]
  },
  {
   "cell_type": "code",
   "execution_count": 18,
   "id": "563db16e",
   "metadata": {},
   "outputs": [],
   "source": [
    "t2 = [1, 2, 3, 4]"
   ]
  },
  {
   "cell_type": "code",
   "execution_count": 19,
   "id": "0a334315",
   "metadata": {},
   "outputs": [
    {
     "name": "stdout",
     "output_type": "stream",
     "text": [
      "<class 'list'>\n"
     ]
    }
   ],
   "source": [
    "print(type(t2))"
   ]
  },
  {
   "cell_type": "code",
   "execution_count": 20,
   "id": "440b6168",
   "metadata": {},
   "outputs": [
    {
     "name": "stdout",
     "output_type": "stream",
     "text": [
      "3\n",
      "4\n",
      "5\n",
      "6\n"
     ]
    }
   ],
   "source": [
    "for a in t2:\n",
    "    print( a + 2)"
   ]
  },
  {
   "cell_type": "code",
   "execution_count": 21,
   "id": "686fa141",
   "metadata": {},
   "outputs": [
    {
     "name": "stdout",
     "output_type": "stream",
     "text": [
      "the first number is 2\n"
     ]
    }
   ],
   "source": [
    "print(\"the first number is\", t2[1])"
   ]
  },
  {
   "cell_type": "code",
   "execution_count": 24,
   "id": "414e93ea",
   "metadata": {},
   "outputs": [
    {
     "name": "stdout",
     "output_type": "stream",
     "text": [
      "d\n",
      "f\n",
      "a\n",
      "c\n",
      "b\n",
      "e\n"
     ]
    }
   ],
   "source": [
    "newSet = {\"a\", \"b\", \"c\", \"d\", \"e\", \"f\", \"a\"}\n",
    "for a in newSet:\n",
    "    print(a)"
   ]
  },
  {
   "cell_type": "code",
   "execution_count": 27,
   "id": "cde5672f",
   "metadata": {},
   "outputs": [
    {
     "name": "stdout",
     "output_type": "stream",
     "text": [
      "simple interest is 20.0\n",
      "amount is 1020.0\n"
     ]
    }
   ],
   "source": [
    "#Simple interest formula\n",
    "p = 1000\n",
    "r = 1\n",
    "t = 2\n",
    "a = (p * (1 + ((r / 100)* t)))\n",
    "si = a - p\n",
    "print(\"simple interest is\", si)\n",
    "print(\"amount is\", a)"
   ]
  },
  {
   "cell_type": "code",
   "execution_count": 28,
   "id": "314e47d2",
   "metadata": {},
   "outputs": [],
   "source": [
    "import cmath"
   ]
  },
  {
   "cell_type": "code",
   "execution_count": 37,
   "id": "06ad7173",
   "metadata": {},
   "outputs": [
    {
     "name": "stdout",
     "output_type": "stream",
     "text": [
      "the solutions are x = (-2+0j) , x = (-3+0j)\n"
     ]
    }
   ],
   "source": [
    "a = 1\n",
    "b = 5 \n",
    "c = 6\n",
    "d = (b**2) - 4*a*c\n",
    "sol1 = ((-b + cmath.sqrt(d)) / 2 * a)\n",
    "sol2 = ((-b - cmath.sqrt(d)) / 2 * a)\n",
    "print(\"the solutions are x =\", sol1,\",\",\"x =\", sol2)"
   ]
  },
  {
   "cell_type": "code",
   "execution_count": 38,
   "id": "c0385edf",
   "metadata": {},
   "outputs": [
    {
     "name": "stdout",
     "output_type": "stream",
     "text": [
      "Enter the first side: 1\n"
     ]
    }
   ],
   "source": [
    "a = float(input(\"Enter the first side: \"))"
   ]
  },
  {
   "cell_type": "code",
   "execution_count": 44,
   "id": "622214ec",
   "metadata": {},
   "outputs": [
    {
     "name": "stdout",
     "output_type": "stream",
     "text": [
      "1.0\n"
     ]
    }
   ],
   "source": [
    "print(a)"
   ]
  },
  {
   "cell_type": "code",
   "execution_count": 40,
   "id": "32b03ef0",
   "metadata": {},
   "outputs": [
    {
     "name": "stdout",
     "output_type": "stream",
     "text": [
      "Enter the second side: 2\n",
      "Enter the third side: 3\n"
     ]
    }
   ],
   "source": [
    "b = float(input(\"Enter the second side: \"))\n",
    "c = float(input(\"Enter the third side: \"))"
   ]
  },
  {
   "cell_type": "code",
   "execution_count": 41,
   "id": "a40194d6",
   "metadata": {},
   "outputs": [
    {
     "name": "stdout",
     "output_type": "stream",
     "text": [
      "1.0 2.0 3.0\n"
     ]
    }
   ],
   "source": [
    "print(a, b, c)"
   ]
  },
  {
   "cell_type": "code",
   "execution_count": 42,
   "id": "1309bbe8",
   "metadata": {},
   "outputs": [],
   "source": [
    "s = (a + b + c) / 2\n",
    "area = (s * (s - a) * (s - b) * (s - c)) ** 0.5"
   ]
  },
  {
   "cell_type": "code",
   "execution_count": 43,
   "id": "54f8acf0",
   "metadata": {},
   "outputs": [
    {
     "name": "stdout",
     "output_type": "stream",
     "text": [
      "0.0\n"
     ]
    }
   ],
   "source": [
    "print(area)"
   ]
  },
  {
   "cell_type": "code",
   "execution_count": 45,
   "id": "bac98e7b",
   "metadata": {},
   "outputs": [
    {
     "name": "stdout",
     "output_type": "stream",
     "text": [
      "Enter the first side: 5\n",
      "Enter the second side: 6\n",
      "Enter the third side: 7\n",
      "The area of the triangle is 14.70\n"
     ]
    }
   ],
   "source": [
    "a = float(input(\"Enter the first side: \"))\n",
    "b = float(input(\"Enter the second side: \"))\n",
    "c = float(input(\"Enter the third side: \"))\n",
    "s = (a + b + c) / 2\n",
    "area = (s * (s - a) * (s - b) * (s - c)) ** 0.5\n",
    "print(\"The area of the triangle is %0.2f\" %area)"
   ]
  },
  {
   "cell_type": "code",
   "execution_count": 46,
   "id": "931934fc",
   "metadata": {},
   "outputs": [
    {
     "name": "stdout",
     "output_type": "stream",
     "text": [
      "Enter your name: miracle\n"
     ]
    }
   ],
   "source": [
    "a = str(input(\"Enter your name: \"))"
   ]
  },
  {
   "cell_type": "code",
   "execution_count": 47,
   "id": "9f9762fc",
   "metadata": {},
   "outputs": [
    {
     "name": "stdout",
     "output_type": "stream",
     "text": [
      "miracle\n"
     ]
    }
   ],
   "source": [
    "print(a)"
   ]
  },
  {
   "cell_type": "code",
   "execution_count": 48,
   "id": "4e487d8a",
   "metadata": {},
   "outputs": [
    {
     "name": "stdout",
     "output_type": "stream",
     "text": [
      "Enter first name: Karo\n",
      "Enter first age: 29\n",
      "Enter second name: Oyinda\n",
      "Enter second age: 30\n"
     ]
    },
    {
     "ename": "TypeError",
     "evalue": "'name1' is an invalid keyword argument for print()",
     "output_type": "error",
     "traceback": [
      "\u001b[0;31m---------------------------------------------------------------------------\u001b[0m",
      "\u001b[0;31mTypeError\u001b[0m                                 Traceback (most recent call last)",
      "\u001b[0;32m/var/folders/nq/b_nlp5h962z8bz2tggdzyftr0000gn/T/ipykernel_3573/3201193766.py\u001b[0m in \u001b[0;36m<module>\u001b[0;34m\u001b[0m\n\u001b[1;32m      9\u001b[0m \u001b[0mname1\u001b[0m \u001b[0;34m=\u001b[0m \u001b[0msubName\u001b[0m\u001b[0;34m\u001b[0m\u001b[0;34m\u001b[0m\u001b[0m\n\u001b[1;32m     10\u001b[0m \u001b[0mage1\u001b[0m \u001b[0;34m=\u001b[0m \u001b[0msubAge\u001b[0m\u001b[0;34m\u001b[0m\u001b[0;34m\u001b[0m\u001b[0m\n\u001b[0;32m---> 11\u001b[0;31m \u001b[0mprint\u001b[0m\u001b[0;34m(\u001b[0m\u001b[0mname1\u001b[0m \u001b[0;34m=\u001b[0m \u001b[0mage1\u001b[0m\u001b[0;34m)\u001b[0m\u001b[0;34m\u001b[0m\u001b[0;34m\u001b[0m\u001b[0m\n\u001b[0m\u001b[1;32m     12\u001b[0m \u001b[0mprint\u001b[0m\u001b[0;34m(\u001b[0m\u001b[0mname2\u001b[0m \u001b[0;34m=\u001b[0m \u001b[0mage2\u001b[0m\u001b[0;34m)\u001b[0m\u001b[0;34m\u001b[0m\u001b[0;34m\u001b[0m\u001b[0m\n",
      "\u001b[0;31mTypeError\u001b[0m: 'name1' is an invalid keyword argument for print()"
     ]
    }
   ],
   "source": [
    "name1 = str(input(\"Enter first name: \"))\n",
    "age1 = int(input(\"Enter first age: \"))\n",
    "name2 = str(input(\"Enter second name: \"))\n",
    "age2 = int(input(\"Enter second age: \"))\n",
    "subName = name2\n",
    "subAge = age2\n",
    "name2 = name1\n",
    "age2 = age1\n",
    "name1 = subName\n",
    "age1 = subAge\n",
    "print(name1 = age1)\n",
    "print(name2 = age2)"
   ]
  },
  {
   "cell_type": "code",
   "execution_count": 49,
   "id": "085f8c3b",
   "metadata": {},
   "outputs": [
    {
     "name": "stdout",
     "output_type": "stream",
     "text": [
      "Enter first name: Bean\n",
      "Enter first age: 12\n",
      "Enter second name: Sawney\n",
      "Enter second age: 14\n",
      "Sawney\n"
     ]
    }
   ],
   "source": [
    "name1 = str(input(\"Enter first name: \"))\n",
    "age1 = int(input(\"Enter first age: \"))\n",
    "name2 = str(input(\"Enter second name: \"))\n",
    "age2 = int(input(\"Enter second age: \"))\n",
    "subAge = age2\n",
    "age2 = age1\n",
    "age1 = subAge\n",
    "print(name1)"
   ]
  },
  {
   "cell_type": "code",
   "execution_count": 50,
   "id": "83f88413",
   "metadata": {},
   "outputs": [
    {
     "name": "stdout",
     "output_type": "stream",
     "text": [
      "Enter first name: Bean\n",
      "Enter first age: 12\n",
      "Enter second name: Sawney\n",
      "Enter second age: 14\n",
      "Bean 14\n"
     ]
    }
   ],
   "source": [
    "name1 = str(input(\"Enter first name: \"))\n",
    "age1 = int(input(\"Enter first age: \"))\n",
    "name2 = str(input(\"Enter second name: \"))\n",
    "age2 = int(input(\"Enter second age: \"))\n",
    "subAge = age2\n",
    "age2 = age1\n",
    "age1 = subAge\n",
    "print(name1, age1)"
   ]
  },
  {
   "cell_type": "code",
   "execution_count": 51,
   "id": "645e894d",
   "metadata": {},
   "outputs": [
    {
     "ename": "SyntaxError",
     "evalue": "invalid syntax (3277405744.py, line 8)",
     "output_type": "error",
     "traceback": [
      "\u001b[0;36m  File \u001b[0;32m\"/var/folders/nq/b_nlp5h962z8bz2tggdzyftr0000gn/T/ipykernel_3573/3277405744.py\"\u001b[0;36m, line \u001b[0;32m8\u001b[0m\n\u001b[0;31m    print(name1, \"=\" age1)\u001b[0m\n\u001b[0m                     ^\u001b[0m\n\u001b[0;31mSyntaxError\u001b[0m\u001b[0;31m:\u001b[0m invalid syntax\n"
     ]
    }
   ],
   "source": [
    "name1 = str(input(\"Enter first name: \"))\n",
    "age1 = int(input(\"Enter first age: \"))\n",
    "name2 = str(input(\"Enter second name: \"))\n",
    "age2 = int(input(\"Enter second age: \"))\n",
    "subAge = age2\n",
    "age2 = age1\n",
    "age1 = subAge\n",
    "print(name1, \"=\" age1)\n",
    "print(name2, \"=\" age2)"
   ]
  },
  {
   "cell_type": "code",
   "execution_count": 52,
   "id": "5ac68a5c",
   "metadata": {},
   "outputs": [
    {
     "name": "stdout",
     "output_type": "stream",
     "text": [
      "Enter first name: Bean\n",
      "Enter first age: 12\n",
      "Enter second name: Sawney\n",
      "Enter second age: 14\n",
      "Bean = 14\n",
      "Sawney = 12\n"
     ]
    }
   ],
   "source": []
  },
  {
   "cell_type": "code",
   "execution_count": null,
   "id": "27d00c40",
   "metadata": {},
   "outputs": [],
   "source": []
  }
 ],
 "metadata": {
  "kernelspec": {
   "display_name": "Python 3 (ipykernel)",
   "language": "python",
   "name": "python3"
  },
  "language_info": {
   "codemirror_mode": {
    "name": "ipython",
    "version": 3
   },
   "file_extension": ".py",
   "mimetype": "text/x-python",
   "name": "python",
   "nbconvert_exporter": "python",
   "pygments_lexer": "ipython3",
   "version": "3.9.7"
  }
 },
 "nbformat": 4,
 "nbformat_minor": 5
}
