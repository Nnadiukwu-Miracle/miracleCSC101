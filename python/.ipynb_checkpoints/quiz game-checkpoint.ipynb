{
 "cells": [
  {
   "cell_type": "code",
   "execution_count": null,
   "id": "09d768fb",
   "metadata": {},
   "outputs": [
    {
     "name": "stdout",
     "output_type": "stream",
     "text": [
      "There are 10 questions, you have 3 chancs to answer each question, each question has 1 point\n",
      "Do you want to play. yes / no\n"
     ]
    }
   ],
   "source": [
    "### list of questions\n",
    "questions = {\"Find the square root of 36\":6, \n",
    "             \"What is 983 + 274\" :1257, \n",
    "             \"What is the product of 60 and 59\": 3540, \n",
    "             \"What is 6728 / 8\": 841, \n",
    "             \"Solve -6h + 18 = -h -7\": 5, \n",
    "             \"Solve 2x + 6 = 7x - 4\": 2, \n",
    "             \"Find the next term: 48, 42, 36, 30, ?\": 24,  \n",
    "             \"Find the cube root of 1\": 1, \n",
    "             \"How many sides does an enneadecagon have?\": 19,\n",
    "             \"How many sides does a tetracontagon have?\": 40\n",
    "            }\n",
    "print(\"There are 10 questions, you have 3 chancs to answer each question, each question has 1 point\")\n",
    "print(\"Do you want to play. yes / no\")\n",
    "if str(input(\"\")) == \"yes\":\n",
    "    score = 0\n",
    "    question = 0\n",
    "    for x in questions:\n",
    "        question += 1\n",
    "        chances = 3\n",
    "        print(\"Question\", question)\n",
    "        while chances > 0:\n",
    "            print(x)\n",
    "            answer = int(input(\"Enter your answer: \"))\n",
    "            if answer == questions[x]:\n",
    "                print(\"correct\")\n",
    "                score += 1\n",
    "                break\n",
    "            else:\n",
    "                print(\"wrong\")\n",
    "                chances -= 1\n",
    "                print(\"You have\", chances, \"chance(s) left\")\n",
    "        if chances == 0:\n",
    "            print(\"The correct answer is\", questions[x])\n",
    "    if score < 4:\n",
    "        print(\"Your score is\", score)\n",
    "        print(\"Better luck next time\")\n",
    "    elif 4 <= score <= 6:\n",
    "        print(\"Your score is\", score)\n",
    "        print(\"Good try, you can do better\")\n",
    "    elif 7 <= score <= 9:\n",
    "        print(\"Your score is\", score)\n",
    "        print(\"Great, aim for a 10 next time\")\n",
    "    else:\n",
    "        print(\"10 out of 10, You're a genius\")\n",
    "else:\n",
    "    print(\"You quit the game\")\n",
    "\n",
    "\n"
   ]
  },
  {
   "cell_type": "markdown",
   "id": "eb56e3f9",
   "metadata": {},
   "source": []
  },
  {
   "cell_type": "markdown",
   "id": "d4f4af71",
   "metadata": {},
   "source": []
  },
  {
   "cell_type": "code",
   "execution_count": null,
   "id": "78f0dfa5",
   "metadata": {},
   "outputs": [],
   "source": []
  },
  {
   "cell_type": "code",
   "execution_count": null,
   "id": "fbc33fb3",
   "metadata": {},
   "outputs": [],
   "source": []
  },
  {
   "cell_type": "code",
   "execution_count": null,
   "id": "bfe574a8",
   "metadata": {},
   "outputs": [],
   "source": []
  },
  {
   "cell_type": "code",
   "execution_count": null,
   "id": "d1688cfe",
   "metadata": {},
   "outputs": [],
   "source": []
  },
  {
   "cell_type": "code",
   "execution_count": null,
   "id": "f7f3f973",
   "metadata": {},
   "outputs": [],
   "source": []
  }
 ],
 "metadata": {
  "kernelspec": {
   "display_name": "Python 3 (ipykernel)",
   "language": "python",
   "name": "python3"
  },
  "language_info": {
   "codemirror_mode": {
    "name": "ipython",
    "version": 3
   },
   "file_extension": ".py",
   "mimetype": "text/x-python",
   "name": "python",
   "nbconvert_exporter": "python",
   "pygments_lexer": "ipython3",
   "version": "3.9.7"
  }
 },
 "nbformat": 4,
 "nbformat_minor": 5
}
