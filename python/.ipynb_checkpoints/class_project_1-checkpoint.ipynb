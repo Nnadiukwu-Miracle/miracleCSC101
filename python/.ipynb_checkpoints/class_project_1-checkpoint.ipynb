{
 "cells": [
  {
   "cell_type": "code",
   "execution_count": 1,
   "id": "905a5df0",
   "metadata": {},
   "outputs": [
    {
     "name": "stdout",
     "output_type": "stream",
     "text": [
      "Enter first name: John Doe\n",
      "Enter first age: 35\n",
      "Enter second name: Jane Doe\n",
      "Enter second age: 30\n",
      "John Doe = 30\n",
      "Jane Doe = 35\n"
     ]
    }
   ],
   "source": [
    "#Enter names and ages\n",
    "name1 = str(input(\"Enter first name: \"))\n",
    "age1 = int(input(\"Enter first age: \"))\n",
    "name2 = str(input(\"Enter second name: \"))\n",
    "age2 = int(input(\"Enter second age: \"))\n",
    "#Age switch\n",
    "subAge = age2\n",
    "age2 = age1\n",
    "age1 = subAge\n",
    "print(name1, \"=\", age1)\n",
    "print(name2, \"=\", age2)"
   ]
  },
  {
   "cell_type": "code",
   "execution_count": null,
   "id": "76240d88",
   "metadata": {},
   "outputs": [],
   "source": []
  }
 ],
 "metadata": {
  "kernelspec": {
   "display_name": "Python 3 (ipykernel)",
   "language": "python",
   "name": "python3"
  },
  "language_info": {
   "codemirror_mode": {
    "name": "ipython",
    "version": 3
   },
   "file_extension": ".py",
   "mimetype": "text/x-python",
   "name": "python",
   "nbconvert_exporter": "python",
   "pygments_lexer": "ipython3",
   "version": "3.9.7"
  }
 },
 "nbformat": 4,
 "nbformat_minor": 5
}
