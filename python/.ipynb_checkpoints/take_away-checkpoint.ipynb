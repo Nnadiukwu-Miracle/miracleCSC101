{
 "cells": [
  {
   "cell_type": "code",
   "execution_count": null,
   "id": "5107626b",
   "metadata": {},
   "outputs": [],
   "source": [
    "#compound interest\n",
    "n = float(input(\"Enter the value of n: \"))\n",
    "t = float(input(\"Enter the value of t: \"))\n",
    "R = float(input(\"Enter the value of R: \"))\n",
    "P = float(input(\"Enter the value of P: \"))\n",
    "A = P * (1 + (R/n))**(n*t)\n",
    "CI = A - P\n",
    "print(\"The compound interest is\", CI)"
   ]
  },
  {
   "cell_type": "code",
   "execution_count": 9,
   "id": "add0b658",
   "metadata": {},
   "outputs": [
    {
     "name": "stdout",
     "output_type": "stream",
     "text": [
      "Enter the value of n: 1\n",
      "Enter the value of t: 1\n",
      "Enter the value of R: 2\n",
      "Enter the value of PMT: 10\n",
      "The value of A is 10.0\n"
     ]
    }
   ],
   "source": [
    "#Annuity plan\n",
    "n = float(input(\"Enter the value of n: \"))\n",
    "t = float(input(\"Enter the value of t: \"))\n",
    "R = float(input(\"Enter the value of R: \"))\n",
    "PMT = float(input(\"Enter the value of PMT: \"))\n",
    "A = PMT * ((((1+(R/n))**(n*t))-1)/(R/n))\n",
    "print(\"The value of A is\", A)"
   ]
  },
  {
   "cell_type": "code",
   "execution_count": null,
   "id": "16526917",
   "metadata": {},
   "outputs": [],
   "source": []
  },
  {
   "cell_type": "code",
   "execution_count": null,
   "id": "795b5904",
   "metadata": {},
   "outputs": [],
   "source": []
  },
  {
   "cell_type": "code",
   "execution_count": null,
   "id": "a499db34",
   "metadata": {},
   "outputs": [],
   "source": []
  },
  {
   "cell_type": "code",
   "execution_count": null,
   "id": "9b4cc3fb",
   "metadata": {},
   "outputs": [],
   "source": []
  }
 ],
 "metadata": {
  "kernelspec": {
   "display_name": "Python 3 (ipykernel)",
   "language": "python",
   "name": "python3"
  },
  "language_info": {
   "codemirror_mode": {
    "name": "ipython",
    "version": 3
   },
   "file_extension": ".py",
   "mimetype": "text/x-python",
   "name": "python",
   "nbconvert_exporter": "python",
   "pygments_lexer": "ipython3",
   "version": "3.9.7"
  }
 },
 "nbformat": 4,
 "nbformat_minor": 5
}
