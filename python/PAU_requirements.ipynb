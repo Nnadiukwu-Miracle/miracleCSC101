{
 "cells": [
  {
   "cell_type": "code",
   "execution_count": null,
   "metadata": {},
   "outputs": [],
   "source": [
    "score = int(input(\"Enter your UTME score: \"))\n",
    "credit_passes = int(input(\"How many credits did you get in SSCE\"))\n",
    "interview_status = input(\"did you pass the Post-UTME interview. yes / no: \")\n",
    "if score >= 230:\n",
    "    if credit_passes >= 5:\n",
    "        if interview_status == \"yes\":\n",
    "            print(\"Congratulations, you met all the requirements\")\n",
    "            print(\"Welcome to PAU\")\n",
    "        else:\n",
    "            print(\"Sorry, you did not pass the interview.\")\n",
    "    else:\n",
    "        print(\"Sorry, you do not have enough credit passes\")\n",
    "else:\n",
    "    print(\"Sorry, your UTME score is less than 230\")"
   ]
  }
 ],
 "metadata": {
  "kernelspec": {
   "display_name": "Python 3",
   "language": "python",
   "name": "python3"
  },
  "language_info": {
   "codemirror_mode": {
    "name": "ipython",
    "version": 3
   },
   "file_extension": ".py",
   "mimetype": "text/x-python",
   "name": "python",
   "nbconvert_exporter": "python",
   "pygments_lexer": "ipython3",
   "version": "3.8.3"
  }
 },
 "nbformat": 4,
 "nbformat_minor": 4
}
