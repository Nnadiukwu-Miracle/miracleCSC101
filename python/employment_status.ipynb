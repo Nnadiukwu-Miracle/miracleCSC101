{
 "cells": [
  {
   "cell_type": "code",
   "execution_count": null,
   "metadata": {},
   "outputs": [],
   "source": [
    "list_of_employees = [\"daniel\", \"david\", \"miracle\", \"henry\", \"james\", \"kingsley\", \"ford\", \"clifford\", \"elsa\", \"daniella\", \"queen\", \"ayra\", \"stella\", \"cruz\", \"kane\"]\n",
    "employed = False\n",
    "name = input(\"Welcome, Please enter your name: \")\n",
    "for x in list_of_employees:\n",
    "    if x == name:\n",
    "        employed = True\n",
    "if employed:\n",
    "    print(\"Welcome\", name)\n",
    "else:\n",
    "    print(\"Please leave\")"
   ]
  }
 ],
 "metadata": {
  "kernelspec": {
   "display_name": "Python 3",
   "language": "python",
   "name": "python3"
  },
  "language_info": {
   "codemirror_mode": {
    "name": "ipython",
    "version": 3
   },
   "file_extension": ".py",
   "mimetype": "text/x-python",
   "name": "python",
   "nbconvert_exporter": "python",
   "pygments_lexer": "ipython3",
   "version": "3.8.3"
  }
 },
 "nbformat": 4,
 "nbformat_minor": 4
}
